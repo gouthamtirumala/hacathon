{
 "cells": [
  {
   "cell_type": "code",
   "execution_count": 12,
   "id": "a952a94f",
   "metadata": {},
   "outputs": [],
   "source": [
    "\n"
   ]
  },
  {
   "cell_type": "code",
   "execution_count": 13,
   "id": "f2b5a590",
   "metadata": {},
   "outputs": [
    {
     "name": "stdout",
     "output_type": "stream",
     "text": [
      "Number of CSV files: 4\n"
     ]
    }
   ],
   "source": [
    "# Check the number of .csv files\n",
    "csv_files = [r\"C:\\Users\\HP\\Downloads\\movie_data\\movies.csv\", r\"C:\\Users\\HP\\Downloads\\movie_data\\ratings.csv\",r\"C:\\Users\\HP\\Downloads\\movie_data\\links.csv\",r\"C:\\Users\\HP\\Downloads\\movie_data\\tags.csv\"]\n",
    "print(f'Number of CSV files: {len(csv_files)}')"
   ]
  },
  {
   "cell_type": "code",
   "execution_count": 14,
   "id": "c2994608",
   "metadata": {},
   "outputs": [
    {
     "name": "stdout",
     "output_type": "stream",
     "text": [
      "Shape of movies.csv: (9742, 3)\n",
      "Shape of ratings.csv: (100836, 4)\n"
     ]
    }
   ],
   "source": [
    "# Check the shape of the datasets\n",
    "print(f'Shape of movies.csv: {movies.shape}')\n",
    "print(f'Shape of ratings.csv: {ratings.shape}')"
   ]
  },
  {
   "cell_type": "code",
   "execution_count": 15,
   "id": "fa0fe17a",
   "metadata": {},
   "outputs": [
    {
     "name": "stdout",
     "output_type": "stream",
     "text": [
      "Number of unique userId: 610\n"
     ]
    }
   ],
   "source": [
    "unique_users = ratings['userId'].nunique()\n",
    "print(f'Number of unique userId: {unique_users}')\n"
   ]
  },
  {
   "cell_type": "code",
   "execution_count": 16,
   "id": "16a10668",
   "metadata": {},
   "outputs": [
    {
     "name": "stdout",
     "output_type": "stream",
     "text": [
      "Movie with maximum number of user ratings: Forrest Gump (1994)\n"
     ]
    }
   ],
   "source": [
    "ratings_count = ratings.groupby('movieId').size().reset_index(name='counts')\n",
    "max_ratings_movie = ratings_count[ratings_count['counts'] == ratings_count['counts'].max()]\n",
    "max_ratings_movie_id = max_ratings_movie['movieId'].values[0]\n",
    "\n",
    "# Merge with movies to get the name of the movie\n",
    "max_rated_movie = movies[movies['movieId'] == max_ratings_movie_id]['title'].values[0]\n",
    "print(f'Movie with maximum number of user ratings: {max_rated_movie}')"
   ]
  },
  {
   "cell_type": "code",
   "execution_count": 19,
   "id": "fc8feabc",
   "metadata": {},
   "outputs": [
    {
     "name": "stdout",
     "output_type": "stream",
     "text": [
      "Unique tags for \"The Matrix (1999)\": ['martial arts' 'sci-fi' 'alternate universe' 'philosophy'\n",
      " 'post apocalyptic']\n"
     ]
    }
   ],
   "source": [
    "matrix_movie_id = movies.loc[movies['title'].str.contains('Matrix, The'), 'movieId'].iloc[0]\n",
    "matrix_tags = tags.loc[tags['movieId'] == matrix_movie_id, 'tag'].drop_duplicates().to_numpy()\n",
    "print(f'Unique tags for \"The Matrix (1999)\": {matrix_tags}')\n"
   ]
  },
  {
   "cell_type": "code",
   "execution_count": 20,
   "id": "80b975cb",
   "metadata": {},
   "outputs": [
    {
     "name": "stdout",
     "output_type": "stream",
     "text": [
      "Average rating for \"Terminator 2: Judgment Day (1991)\": 3.970982142857143\n"
     ]
    }
   ],
   "source": [
    "t2_movie_id = movies.loc[movies['title'].str.contains('Terminator 2'), 'movieId'].iloc[0]\n",
    "t2_ratings = ratings.loc[ratings['movieId'] == t2_movie_id, 'rating'].mean()\n",
    "print(f'Average rating for \"Terminator 2: Judgment Day (1991)\": {t2_ratings}')\n"
   ]
  },
  {
   "cell_type": "code",
   "execution_count": 21,
   "id": "f6431f8e",
   "metadata": {},
   "outputs": [
    {
     "data": {
      "image/png": "[encoded data removed]",
      "text/plain": [
       "<Figure size 640x480 with 1 Axes>"
      ]
     },
     "metadata": {},
     "output_type": "display_data"
    }
   ],
   "source": [
    "fight_club_id = movies.loc[movies['title'].str.contains('Fight Club'), 'movieId'].iloc[0]\n",
    "fight_club_ratings = ratings.loc[ratings['movieId'] == fight_club_id, 'rating']\n",
    "fight_club_distribution = fight_club_ratings.plot.hist(bins=10).get_figure()\n",
    "fight_club_distribution.savefig('fight_club_distribution.png')\n"
   ]
  },
  {
   "cell_type": "code",
   "execution_count": 24,
   "id": "5a3809ab",
   "metadata": {},
   "outputs": [],
   "source": [
    "aggregated_ratings = ratings.groupby('movieId').agg({'rating': ['count', 'mean']})\n",
    "aggregated_ratings.columns = ['rating_count', 'average_rating']\n",
    "movies_with_high_ratings = aggregated_ratings[aggregated_ratings['rating_count'] > 50]\n",
    "popular_movies = pd.merge(movies_with_high_ratings, movies, on='movieId')\n"
   ]
  },
  {
   "cell_type": "code",
   "execution_count": 30,
   "id": "a2b55b78",
   "metadata": {},
   "outputs": [
    {
     "name": "stdout",
     "output_type": "stream",
     "text": [
      "Most popular movie based on average user ratings: Shawshank Redemption, The (1994)\n"
     ]
    }
   ],
   "source": [
    "most_popular_movie = popular_movies.loc[popular_movies['average_rating'].idxmax()]\n",
    "print(f\"Most popular movie based on average user ratings: {most_popular_movie['title']}\")\n"
   ]
  },
  {
   "cell_type": "code",
   "execution_count": 32,
   "id": "6a51311c",
   "metadata": {},
   "outputs": [
    {
     "name": "stdout",
     "output_type": "stream",
     "text": [
      "Top 5 popular movies based on the number of user ratings:\n",
      "                                title  rating_count\n",
      "61                Forrest Gump (1994)           329\n",
      "53   Shawshank Redemption, The (1994)           317\n",
      "49                Pulp Fiction (1994)           307\n",
      "99   Silence of the Lambs, The (1991)           279\n",
      "248                Matrix, The (1999)           278\n"
     ]
    }
   ],
   "source": [
    "top_5_movies = popular_movies.nlargest(5, 'rating_count')\n",
    "print(\"Top 5 popular movies based on the number of user ratings:\")\n",
    "print(top_5_movies[['title', 'rating_count']])\n"
   ]
  },
  {
   "cell_type": "code",
   "execution_count": 33,
   "id": "88928e4e",
   "metadata": {},
   "outputs": [
    {
     "name": "stdout",
     "output_type": "stream",
     "text": [
      "Number of movies with more than 50 ratings: 436\n"
     ]
    }
   ],
   "source": [
    "import pandas as pd\n",
    "\n",
    "# Load datasets\n",
    "movies = pd.read_csv(r\"C:\\Users\\HP\\Downloads\\movie_data\\movies.csv\")\n",
    "ratings = pd.read_csv(r\"C:\\Users\\HP\\Downloads\\movie_data\\ratings.csv\")\n",
    "links = pd.read_csv(r\"C:\\Users\\HP\\Downloads\\movie_data\\links.csv\")\n",
    "tags = pd.read_csv(r\"C:\\Users\\HP\\Downloads\\movie_data\\tags.csv\")\n",
    "\n",
    "# Group by movieId and calculate rating statistics\n",
    "rating_stats = ratings.groupby('movieId').agg({'rating': ['count', 'mean']}).reset_index()\n",
    "rating_stats.columns = ['movieId', 'rating_count', 'rating_mean']\n",
    "\n",
    "# Filter movies with more than 50 ratings\n",
    "movies_over_50_ratings = rating_stats[rating_stats['rating_count'] > 50]\n",
    "\n",
    "# Merge with movies and links datasets\n",
    "movies_over_50_ratings = movies_over_50_ratings.merge(movies, on='movieId')\n",
    "movies_over_50_ratings = movies_over_50_ratings.merge(links, on='movieId')\n",
    "\n",
    "print(f\"Number of movies with more than 50 ratings: {len(movies_over_50_ratings)}\")\n"
   ]
  },
  {
   "cell_type": "code",
   "execution_count": null,
   "id": "0da7c5dc",
   "metadata": {},
   "outputs": [],
   "source": [
    "import pandas as pd\n",
    "import requests\n",
    "from bs4 import BeautifulSoup\n",
    "\n",
    "# Load the datasets\n",
    "movies = pd.read_csv(r\"C:\\Users\\HP\\Downloads\\movie_data\\movies.csv\")\n",
    "ratings = pd.read_csv(r\"C:\\Users\\HP\\Downloads\\movie_data\\ratings.csv\")\n",
    "links = pd.read_csv(r\"C:\\Users\\HP\\Downloads\\movie_data\\links.csv\")\n",
    "\n",
    "# Group by movieId and calculate the number of ratings\n",
    "ratings_grouped = ratings.groupby('movieId').agg({'rating': ['count', 'mean']}).reset_index()\n",
    "ratings_grouped.columns = ['movieId', 'rating_count', 'rating_mean']\n",
    "\n",
    "# Filter movies with more than 50 ratings\n",
    "filtered_movies_df = ratings_grouped[ratings_grouped['rating_count'] > 50]\n",
    "\n",
    "# Merge with movies and links data\n",
    "filtered_movies_df = filtered_movies_df.merge(movies, on='movieId')\n",
    "filtered_movies_df = filtered_movies_df.merge(links, on='movieId')\n",
    "\n",
    "# Function to fetch IMDb reviews\n",
    "def fetch_imdb_reviews(imdb_id, max_reviews=10):\n",
    "    review_list = []\n",
    "    url = f\"https://www.imdb.com/title/tt{imdb_id}/reviews\"\n",
    "    response = requests.get(url)\n",
    "    soup = BeautifulSoup(response.text, 'html.parser')\n",
    "    reviews = soup.find_all('div', class_='text show-more__control', limit=max_reviews)\n",
    "    for review in reviews:\n",
    "        review_list.append(review.text.strip())\n",
    "    return review_list\n",
    "\n",
    "# Add a new column to store the reviews\n",
    "filtered_movies_df['imdb_reviews'] = filtered_movies_df['imdbId'].apply(lambda x: fetch_imdb_reviews(str(x).zfill(7)))\n",
    "\n",
    "# Display a few rows to confirm that reviews are being captured\n",
    "print(filtered_movies_df[['movieId', 'title', 'imdb_reviews']].head())\n"
   ]
  },
  {
   "cell_type": "code",
   "execution_count": null,
   "id": "89c6e48c",
   "metadata": {},
   "outputs": [],
   "source": [
    "# Save the reviews to a CSV file\n",
    "filtered_movies_df.to_csv(r\"D:\\hacathon\\reviews.csv\", index=False)"
   ]
  },
  {
   "cell_type": "code",
   "execution_count": null,
   "id": "960882e8",
   "metadata": {},
   "outputs": [],
   "source": [
    "# Filter for Sci-Fi movies\n",
    "sci_fi_movies_df = filtered_movies_df[filtered_movies_df['genres'].str.contains('Sci-Fi')]\n",
    "\n",
    "# Check the number of Sci-Fi movies with more than 50 ratings\n",
    "print(f\"Number of Sci-Fi movies with more than 50 ratings: {len(sci_fi_movies_df)}\")"
   ]
  }
 ],
 "metadata": {
  "kernelspec": {
   "display_name": "Python 3 (ipykernel)",
   "language": "python",
   "name": "python3"
  },
  "language_info": {
   "codemirror_mode": {
    "name": "ipython",
    "version": 3
   },
   "file_extension": ".py",
   "mimetype": "text/x-python",
   "name": "python",
   "nbconvert_exporter": "python",
   "pygments_lexer": "ipython3",
   "version": "3.11.5"
  }
 },
 "nbformat": 4,
 "nbformat_minor": 5
}
